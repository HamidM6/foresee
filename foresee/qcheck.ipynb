{
 "cells": [
  {
   "cell_type": "code",
   "execution_count": 1,
   "metadata": {},
   "outputs": [],
   "source": [
    "# -*- coding: utf-8 -*-\n",
    "\n",
    "\n",
    "import pandas as pd\n",
    "import os\n",
    "import io\n",
    "# from main import collect_result\n",
    "# import utils"
   ]
  },
  {
   "cell_type": "code",
   "execution_count": null,
   "metadata": {},
   "outputs": [],
   "source": [
    "pd.read_csv('data/test_data.csv')"
   ]
  },
  {
   "cell_type": "code",
   "execution_count": null,
   "metadata": {},
   "outputs": [],
   "source": [
    "root = os.path.dirname(os.getcwd())\n",
    "\n",
    "# sample time series dataframe with columns(id, datestamp, y)\n",
    "\n",
    "raw_fact = utils.read_csv(root, 'test_data.csv')\n",
    "raw_fact['date_stamp'] = pd.to_datetime(raw_fact['date_stamp'])\n",
    "raw_fact.info()\n",
    "\n",
    "model_list = ['fft', 'holt_winters', 'sarimax', 'ewm_model', 'prophet']\n",
    "gbkey = 'id'\n",
    "\n",
    "result = collect_result(raw_fact, model_list, gbkey, 'date_stamp')"
   ]
  },
  {
   "cell_type": "code",
   "execution_count": null,
   "metadata": {},
   "outputs": [],
   "source": [
    "import io\n",
    "buffer = io.StringIO()"
   ]
  },
  {
   "cell_type": "code",
   "execution_count": null,
   "metadata": {},
   "outputs": [],
   "source": [
    "raw_fact.info(buf=buffer)\n",
    "s = buffer.getvalue()\n",
    "print(s)"
   ]
  },
  {
   "cell_type": "code",
   "execution_count": null,
   "metadata": {},
   "outputs": [],
   "source": [
    "[str(raw_fact[col].dtype) for col in raw_fact.columns]"
   ]
  },
  {
   "cell_type": "code",
   "execution_count": null,
   "metadata": {},
   "outputs": [],
   "source": [
    "df_info = str()\n",
    "\n",
    "df_info = '\\n'.join([str(raw_fact[col].dtype) for col in list(raw_fact)])\n",
    "\n",
    "print(df_info)"
   ]
  }
 ],
 "metadata": {
  "kernelspec": {
   "display_name": "Python 3",
   "language": "python",
   "name": "python3"
  },
  "language_info": {
   "codemirror_mode": {
    "name": "ipython",
    "version": 3
   },
   "file_extension": ".py",
   "mimetype": "text/x-python",
   "name": "python",
   "nbconvert_exporter": "python",
   "pygments_lexer": "ipython3",
   "version": "3.6.5"
  }
 },
 "nbformat": 4,
 "nbformat_minor": 2
}
