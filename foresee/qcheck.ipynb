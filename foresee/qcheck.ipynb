{
 "cells": [
  {
   "cell_type": "code",
   "execution_count": 1,
   "metadata": {},
   "outputs": [],
   "source": [
    "# -*- coding: utf-8 -*-\n",
    "\n",
    "\n",
    "import pandas as pd\n",
    "import os\n",
    "from main import collect_result\n",
    "import utils"
   ]
  },
  {
   "cell_type": "code",
   "execution_count": 2,
   "metadata": {},
   "outputs": [
    {
     "name": "stdout",
     "output_type": "stream",
     "text": [
      "<class 'pandas.core.frame.DataFrame'>\n",
      "RangeIndex: 60 entries, 0 to 59\n",
      "Data columns (total 3 columns):\n",
      " #   Column      Non-Null Count  Dtype         \n",
      "---  ------      --------------  -----         \n",
      " 0   id          60 non-null     int64         \n",
      " 1   date_stamp  60 non-null     datetime64[ns]\n",
      " 2   y           60 non-null     float64       \n",
      "dtypes: datetime64[ns](1), float64(1), int64(1)\n",
      "memory usage: 1.5 KB\n"
     ]
    },
    {
     "ename": "AttributeError",
     "evalue": "'NoneType' object has no attribute 'groupby'",
     "output_type": "error",
     "traceback": [
      "\u001b[1;31m---------------------------------------------------------------------------\u001b[0m",
      "\u001b[1;31mAttributeError\u001b[0m                            Traceback (most recent call last)",
      "\u001b[1;32m<ipython-input-2-f7d018049a68>\u001b[0m in \u001b[0;36m<module>\u001b[1;34m()\u001b[0m\n\u001b[0;32m     10\u001b[0m \u001b[0mgbkey\u001b[0m \u001b[1;33m=\u001b[0m \u001b[1;34m'id'\u001b[0m\u001b[1;33m\u001b[0m\u001b[0m\n\u001b[0;32m     11\u001b[0m \u001b[1;33m\u001b[0m\u001b[0m\n\u001b[1;32m---> 12\u001b[1;33m \u001b[0mresult\u001b[0m \u001b[1;33m=\u001b[0m \u001b[0mcollect_result\u001b[0m\u001b[1;33m(\u001b[0m\u001b[0mraw_fact\u001b[0m\u001b[1;33m,\u001b[0m \u001b[0mmodel_list\u001b[0m\u001b[1;33m,\u001b[0m \u001b[0mgbkey\u001b[0m\u001b[1;33m,\u001b[0m \u001b[1;34m'date_stamp'\u001b[0m\u001b[1;33m)\u001b[0m\u001b[1;33m\u001b[0m\u001b[0m\n\u001b[0m",
      "\u001b[1;32m~\\Desktop\\github\\foresee\\foresee\\main.py\u001b[0m in \u001b[0;36mcollect_result\u001b[1;34m(raw_fact, model_list, gbkey, ds_column)\u001b[0m\n\u001b[0;32m     89\u001b[0m     \u001b[0mraw_fact\u001b[0m \u001b[1;33m=\u001b[0m \u001b[0m_pre_process_user_inputs\u001b[0m\u001b[1;33m(\u001b[0m\u001b[0mraw_fact\u001b[0m\u001b[1;33m,\u001b[0m \u001b[0mgbkey\u001b[0m\u001b[1;33m,\u001b[0m \u001b[0mds_column\u001b[0m\u001b[1;33m)\u001b[0m\u001b[1;33m\u001b[0m\u001b[0m\n\u001b[0;32m     90\u001b[0m \u001b[1;33m\u001b[0m\u001b[0m\n\u001b[1;32m---> 91\u001b[1;33m     \u001b[0mfit_result_list\u001b[0m \u001b[1;33m=\u001b[0m \u001b[0mcompose\u001b[0m\u001b[1;33m.\u001b[0m\u001b[0mmodel_fit\u001b[0m\u001b[1;33m(\u001b[0m\u001b[0mraw_fact\u001b[0m\u001b[1;33m,\u001b[0m \u001b[0mmodel_params\u001b[0m\u001b[1;33m,\u001b[0m \u001b[0mparam_config\u001b[0m\u001b[1;33m,\u001b[0m \u001b[0mgbkey\u001b[0m\u001b[1;33m)\u001b[0m\u001b[1;33m\u001b[0m\u001b[0m\n\u001b[0m\u001b[0;32m     92\u001b[0m \u001b[1;33m\u001b[0m\u001b[0m\n\u001b[0;32m     93\u001b[0m     \u001b[0mresult\u001b[0m \u001b[1;33m=\u001b[0m \u001b[0mcompose\u001b[0m\u001b[1;33m.\u001b[0m\u001b[0mtransform_dict_to_df\u001b[0m\u001b[1;33m(\u001b[0m\u001b[0mfit_result_list\u001b[0m\u001b[1;33m,\u001b[0m \u001b[0mmodel_list\u001b[0m\u001b[1;33m)\u001b[0m\u001b[1;33m\u001b[0m\u001b[0m\n",
      "\u001b[1;32m~\\Desktop\\github\\foresee\\foresee\\compose.py\u001b[0m in \u001b[0;36mmodel_fit\u001b[1;34m(raw_fact, model_params, param_config, gbkey)\u001b[0m\n\u001b[0;32m     20\u001b[0m     \u001b[0mfit_result_list\u001b[0m \u001b[1;33m=\u001b[0m \u001b[0mlist\u001b[0m\u001b[1;33m(\u001b[0m\u001b[1;33m)\u001b[0m\u001b[1;33m\u001b[0m\u001b[0m\n\u001b[0;32m     21\u001b[0m \u001b[1;33m\u001b[0m\u001b[0m\n\u001b[1;32m---> 22\u001b[1;33m     \u001b[0mdata_param_list\u001b[0m \u001b[1;33m=\u001b[0m \u001b[0m_transform_dataframe_to_dict\u001b[0m\u001b[1;33m(\u001b[0m\u001b[0mraw_fact\u001b[0m\u001b[1;33m,\u001b[0m \u001b[0mgbkey\u001b[0m\u001b[1;33m)\u001b[0m\u001b[1;33m\u001b[0m\u001b[0m\n\u001b[0m\u001b[0;32m     23\u001b[0m \u001b[1;33m\u001b[0m\u001b[0m\n\u001b[0;32m     24\u001b[0m     \u001b[1;32mfor\u001b[0m \u001b[0mdata_param\u001b[0m \u001b[1;32min\u001b[0m \u001b[0mdata_param_list\u001b[0m\u001b[1;33m:\u001b[0m\u001b[1;33m\u001b[0m\u001b[0m\n",
      "\u001b[1;32m~\\Desktop\\github\\foresee\\foresee\\compose.py\u001b[0m in \u001b[0;36m_transform_dataframe_to_dict\u001b[1;34m(raw_fact, gbkey)\u001b[0m\n\u001b[0;32m     55\u001b[0m \u001b[1;33m\u001b[0m\u001b[0m\n\u001b[0;32m     56\u001b[0m     \u001b[1;32melse\u001b[0m\u001b[1;33m:\u001b[0m\u001b[1;33m\u001b[0m\u001b[0m\n\u001b[1;32m---> 57\u001b[1;33m         \u001b[1;32mfor\u001b[0m \u001b[0mk\u001b[0m\u001b[1;33m,\u001b[0m\u001b[0mv\u001b[0m \u001b[1;32min\u001b[0m \u001b[0mraw_fact\u001b[0m\u001b[1;33m.\u001b[0m\u001b[0mgroupby\u001b[0m\u001b[1;33m(\u001b[0m\u001b[0mgbkey\u001b[0m\u001b[1;33m)\u001b[0m\u001b[1;33m:\u001b[0m\u001b[1;33m\u001b[0m\u001b[0m\n\u001b[0m\u001b[0;32m     58\u001b[0m             \u001b[0mdata_param_list\u001b[0m\u001b[1;33m.\u001b[0m\u001b[0mappend\u001b[0m\u001b[1;33m(\u001b[0m\u001b[1;33m{\u001b[0m\u001b[1;34m'ts_id'\u001b[0m\u001b[1;33m:\u001b[0m\u001b[0mk\u001b[0m\u001b[1;33m,\u001b[0m \u001b[1;34m'df'\u001b[0m\u001b[1;33m:\u001b[0m\u001b[0mv\u001b[0m\u001b[1;33m}\u001b[0m\u001b[1;33m)\u001b[0m\u001b[1;33m\u001b[0m\u001b[0m\n\u001b[0;32m     59\u001b[0m \u001b[1;33m\u001b[0m\u001b[0m\n",
      "\u001b[1;31mAttributeError\u001b[0m: 'NoneType' object has no attribute 'groupby'"
     ]
    }
   ],
   "source": [
    "root = os.path.dirname(os.getcwd())\n",
    "\n",
    "# sample time series dataframe with columns(id, datestamp, y)\n",
    "\n",
    "raw_fact = utils.read_csv(root, 'test_data.csv')\n",
    "raw_fact['date_stamp'] = pd.to_datetime(raw_fact['date_stamp'])\n",
    "raw_fact.info()\n",
    "\n",
    "model_list = ['fft', 'holt_winters', 'sarimax', 'ewm_model', 'prophet']\n",
    "gbkey = 'id'\n",
    "\n",
    "result = collect_result(raw_fact, model_list, gbkey, 'date_stamp')"
   ]
  }
 ],
 "metadata": {
  "kernelspec": {
   "display_name": "Python 3",
   "language": "python",
   "name": "python3"
  },
  "language_info": {
   "codemirror_mode": {
    "name": "ipython",
    "version": 3
   },
   "file_extension": ".py",
   "mimetype": "text/x-python",
   "name": "python",
   "nbconvert_exporter": "python",
   "pygments_lexer": "ipython3",
   "version": "3.6.5"
  }
 },
 "nbformat": 4,
 "nbformat_minor": 2
}
