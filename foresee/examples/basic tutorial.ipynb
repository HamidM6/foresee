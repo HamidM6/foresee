{
 "cells": [
  {
   "cell_type": "markdown",
   "metadata": {},
   "source": [
    "##### An example of using foresee from jupyter notebook"
   ]
  },
  {
   "cell_type": "code",
   "execution_count": 1,
   "metadata": {},
   "outputs": [],
   "source": [
    "import warnings\n",
    "warnings.filterwarnings(\"ignore\")"
   ]
  },
  {
   "cell_type": "code",
   "execution_count": 2,
   "metadata": {},
   "outputs": [],
   "source": [
    "import os\n",
    "import sys\n",
    "import pandas as pd"
   ]
  },
  {
   "cell_type": "code",
   "execution_count": 10,
   "metadata": {},
   "outputs": [],
   "source": [
    "# import local modules\n",
    "\n",
    "module_path = os.path.abspath(os.path.join('..'))\n",
    "if module_path not in sys.path:\n",
    "    sys.path.append(module_path+'\\\\scripts')\n",
    "\n",
    "import main\n",
    "import utils"
   ]
  },
  {
   "cell_type": "code",
   "execution_count": 11,
   "metadata": {},
   "outputs": [
    {
     "data": {
      "text/html": [
       "<div>\n",
       "<style scoped>\n",
       "    .dataframe tbody tr th:only-of-type {\n",
       "        vertical-align: middle;\n",
       "    }\n",
       "\n",
       "    .dataframe tbody tr th {\n",
       "        vertical-align: top;\n",
       "    }\n",
       "\n",
       "    .dataframe thead th {\n",
       "        text-align: right;\n",
       "    }\n",
       "</style>\n",
       "<table border=\"1\" class=\"dataframe\">\n",
       "  <thead>\n",
       "    <tr style=\"text-align: right;\">\n",
       "      <th></th>\n",
       "      <th>id</th>\n",
       "      <th>date_stamp</th>\n",
       "      <th>y</th>\n",
       "    </tr>\n",
       "  </thead>\n",
       "  <tbody>\n",
       "    <tr>\n",
       "      <th>0</th>\n",
       "      <td>1</td>\n",
       "      <td>2019-01-31</td>\n",
       "      <td>101.0</td>\n",
       "    </tr>\n",
       "    <tr>\n",
       "      <th>1</th>\n",
       "      <td>1</td>\n",
       "      <td>2019-02-28</td>\n",
       "      <td>105.0</td>\n",
       "    </tr>\n",
       "    <tr>\n",
       "      <th>2</th>\n",
       "      <td>1</td>\n",
       "      <td>2019-03-28</td>\n",
       "      <td>110.0</td>\n",
       "    </tr>\n",
       "    <tr>\n",
       "      <th>3</th>\n",
       "      <td>1</td>\n",
       "      <td>2019-04-25</td>\n",
       "      <td>115.0</td>\n",
       "    </tr>\n",
       "    <tr>\n",
       "      <th>4</th>\n",
       "      <td>1</td>\n",
       "      <td>2019-05-23</td>\n",
       "      <td>120.0</td>\n",
       "    </tr>\n",
       "  </tbody>\n",
       "</table>\n",
       "</div>"
      ],
      "text/plain": [
       "   id date_stamp      y\n",
       "0   1 2019-01-31  101.0\n",
       "1   1 2019-02-28  105.0\n",
       "2   1 2019-03-28  110.0\n",
       "3   1 2019-04-25  115.0\n",
       "4   1 2019-05-23  120.0"
      ]
     },
     "execution_count": 11,
     "metadata": {},
     "output_type": "execute_result"
    }
   ],
   "source": [
    "# sample time-series dataframe with columns(id, date_stamp, y)\n",
    "\n",
    "ts_df = utils.read_csv('test_data.csv')\n",
    "ts_df['date_stamp'] = pd.to_datetime(ts_df['date_stamp'])\n",
    "ts_df.head()"
   ]
  },
  {
   "cell_type": "code",
   "execution_count": 12,
   "metadata": {},
   "outputs": [],
   "source": [
    "# user defind parameters\n",
    "# not all in use currently\n",
    "\n",
    "gbkey = 'id'\n",
    "ds_column = 'date_stamp'\n",
    "freq = 12\n",
    "fcst_length = 10\n",
    "model_list = ['fft', 'holt_winters', 'sarimax', 'ewm_model', 'prophet']\n",
    "\n",
    "# currently not in use\n",
    "run_type = 'all_models'\n",
    "holdout_length = 5"
   ]
  },
  {
   "cell_type": "code",
   "execution_count": 13,
   "metadata": {},
   "outputs": [
    {
     "name": "stderr",
     "output_type": "stream",
     "text": [
      "INFO:fbprophet:Disabling weekly seasonality. Run prophet with weekly_seasonality=True to override this.\n",
      "INFO:fbprophet:Disabling daily seasonality. Run prophet with daily_seasonality=True to override this.\n",
      "INFO:fbprophet:n_changepoints greater than number of observations. Using 23.\n",
      "C:\\Users\\abc_h\\Anaconda3\\lib\\site-packages\\statsmodels\\tsa\\base\\tsa_model.py:221: ValueWarning:\n",
      "\n",
      "An unsupported index was provided and will be ignored when e.g. forecasting.\n",
      "\n",
      "C:\\Users\\abc_h\\Anaconda3\\lib\\site-packages\\statsmodels\\tsa\\base\\tsa_model.py:531: ValueWarning:\n",
      "\n",
      "No supported index is available. Prediction results will be given with an integer index beginning at `start`.\n",
      "\n",
      "INFO:fbprophet:Disabling weekly seasonality. Run prophet with weekly_seasonality=True to override this.\n",
      "INFO:fbprophet:Disabling daily seasonality. Run prophet with daily_seasonality=True to override this.\n",
      "INFO:fbprophet:n_changepoints greater than number of observations. Using 23.\n"
     ]
    },
    {
     "name": "stdout",
     "output_type": "stream",
     "text": [
      "'NoneType' object has no attribute 'append'\n",
      "'NoneType' object has no attribute 'append'\n",
      "'NoneType' object has no attribute 'append'\n",
      "'NoneType' object has no attribute 'append'\n"
     ]
    },
    {
     "data": {
      "text/html": [
       "<div>\n",
       "<style scoped>\n",
       "    .dataframe tbody tr th:only-of-type {\n",
       "        vertical-align: middle;\n",
       "    }\n",
       "\n",
       "    .dataframe tbody tr th {\n",
       "        vertical-align: top;\n",
       "    }\n",
       "\n",
       "    .dataframe thead th {\n",
       "        text-align: right;\n",
       "    }\n",
       "</style>\n",
       "<table border=\"1\" class=\"dataframe\">\n",
       "  <thead>\n",
       "    <tr style=\"text-align: right;\">\n",
       "      <th></th>\n",
       "      <th>fft_forecast</th>\n",
       "      <th>holt_winters_forecast</th>\n",
       "      <th>sarimax_forecast</th>\n",
       "      <th>ewm_model_forecast</th>\n",
       "      <th>prophet_forecast</th>\n",
       "      <th>ts_id</th>\n",
       "    </tr>\n",
       "  </thead>\n",
       "  <tbody>\n",
       "    <tr>\n",
       "      <th>0</th>\n",
       "      <td>147.521421</td>\n",
       "      <td>91.743905</td>\n",
       "      <td>0</td>\n",
       "      <td>101.000000</td>\n",
       "      <td>0</td>\n",
       "      <td>1</td>\n",
       "    </tr>\n",
       "    <tr>\n",
       "      <th>1</th>\n",
       "      <td>104.804958</td>\n",
       "      <td>132.806466</td>\n",
       "      <td>0</td>\n",
       "      <td>103.400000</td>\n",
       "      <td>0</td>\n",
       "      <td>1</td>\n",
       "    </tr>\n",
       "    <tr>\n",
       "      <th>2</th>\n",
       "      <td>149.184604</td>\n",
       "      <td>83.108008</td>\n",
       "      <td>0</td>\n",
       "      <td>106.526316</td>\n",
       "      <td>0</td>\n",
       "      <td>1</td>\n",
       "    </tr>\n",
       "    <tr>\n",
       "      <th>3</th>\n",
       "      <td>138.720634</td>\n",
       "      <td>130.921407</td>\n",
       "      <td>0</td>\n",
       "      <td>110.046154</td>\n",
       "      <td>0</td>\n",
       "      <td>1</td>\n",
       "    </tr>\n",
       "    <tr>\n",
       "      <th>4</th>\n",
       "      <td>77.249133</td>\n",
       "      <td>90.310469</td>\n",
       "      <td>0</td>\n",
       "      <td>113.867299</td>\n",
       "      <td>0</td>\n",
       "      <td>1</td>\n",
       "    </tr>\n",
       "  </tbody>\n",
       "</table>\n",
       "</div>"
      ],
      "text/plain": [
       "   fft_forecast  holt_winters_forecast  sarimax_forecast  ewm_model_forecast  \\\n",
       "0    147.521421              91.743905                 0          101.000000   \n",
       "1    104.804958             132.806466                 0          103.400000   \n",
       "2    149.184604              83.108008                 0          106.526316   \n",
       "3    138.720634             130.921407                 0          110.046154   \n",
       "4     77.249133              90.310469                 0          113.867299   \n",
       "\n",
       "   prophet_forecast  ts_id  \n",
       "0                 0      1  \n",
       "1                 0      1  \n",
       "2                 0      1  \n",
       "3                 0      1  \n",
       "4                 0      1  "
      ]
     },
     "execution_count": 13,
     "metadata": {},
     "output_type": "execute_result"
    }
   ],
   "source": [
    "# result contains fitted values and future forecasts\n",
    "# fit_results_list contains model object, fitted values, forecasts, and errors (useful for debuging)\n",
    "\n",
    "result, fit_result_list = main.collect_result(\n",
    "                                ts_df,\n",
    "                                gbkey,\n",
    "                                ds_column, \n",
    "                                freq, \n",
    "                                fcst_length, \n",
    "                                run_type, \n",
    "                                holdout_length, \n",
    "                                model_list\n",
    "                            )\n",
    "\n",
    "result.head()"
   ]
  },
  {
   "cell_type": "code",
   "execution_count": 14,
   "metadata": {},
   "outputs": [
    {
     "name": "stdout",
     "output_type": "stream",
     "text": [
      "sarimax: Non-stationary starting autoregressive parameters found with `enforce_stationarity` set to True.\n",
      "prophet: Invalid frequency: 12\n",
      "sarimax: Non-stationary starting autoregressive parameters found with `enforce_stationarity` set to True.\n",
      "prophet: Invalid frequency: 12\n"
     ]
    }
   ],
   "source": [
    "for item in fit_result_list:\n",
    "    for model in model_list:\n",
    "        if item[model+'_modelobj'] is None:\n",
    "            print(model + ': ' + item[model+'_err'])"
   ]
  },
  {
   "cell_type": "code",
   "execution_count": null,
   "metadata": {},
   "outputs": [],
   "source": []
  }
 ],
 "metadata": {
  "kernelspec": {
   "display_name": "Python 3",
   "language": "python",
   "name": "python3"
  },
  "language_info": {
   "codemirror_mode": {
    "name": "ipython",
    "version": 3
   },
   "file_extension": ".py",
   "mimetype": "text/x-python",
   "name": "python",
   "nbconvert_exporter": "python",
   "pygments_lexer": "ipython3",
   "version": "3.6.5"
  }
 },
 "nbformat": 4,
 "nbformat_minor": 2
}
