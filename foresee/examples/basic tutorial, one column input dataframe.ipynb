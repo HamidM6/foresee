{
 "cells": [
  {
   "cell_type": "markdown",
   "metadata": {},
   "source": [
    "##### An example of using foresee from jupyter notebook"
   ]
  },
  {
   "cell_type": "code",
   "execution_count": 1,
   "metadata": {},
   "outputs": [],
   "source": [
    "import warnings\n",
    "warnings.filterwarnings(\"ignore\")"
   ]
  },
  {
   "cell_type": "code",
   "execution_count": 2,
   "metadata": {},
   "outputs": [],
   "source": [
    "import os\n",
    "import sys\n",
    "import pandas as pd\n",
    "import numpy as np"
   ]
  },
  {
   "cell_type": "code",
   "execution_count": 3,
   "metadata": {},
   "outputs": [],
   "source": [
    "# import local modules\n",
    "\n",
    "module_path = os.path.abspath(os.path.join('..'))\n",
    "if module_path not in sys.path:\n",
    "    sys.path.append(module_path+'\\\\scripts')\n",
    "\n",
    "import main\n",
    "import utils"
   ]
  },
  {
   "cell_type": "code",
   "execution_count": 4,
   "metadata": {},
   "outputs": [
    {
     "data": {
      "text/html": [
       "<div>\n",
       "<style scoped>\n",
       "    .dataframe tbody tr th:only-of-type {\n",
       "        vertical-align: middle;\n",
       "    }\n",
       "\n",
       "    .dataframe tbody tr th {\n",
       "        vertical-align: top;\n",
       "    }\n",
       "\n",
       "    .dataframe thead th {\n",
       "        text-align: right;\n",
       "    }\n",
       "</style>\n",
       "<table border=\"1\" class=\"dataframe\">\n",
       "  <thead>\n",
       "    <tr style=\"text-align: right;\">\n",
       "      <th></th>\n",
       "      <th>Close</th>\n",
       "    </tr>\n",
       "  </thead>\n",
       "  <tbody>\n",
       "    <tr>\n",
       "      <th>0</th>\n",
       "      <td>75.779999</td>\n",
       "    </tr>\n",
       "    <tr>\n",
       "      <th>1</th>\n",
       "      <td>75.610001</td>\n",
       "    </tr>\n",
       "  </tbody>\n",
       "</table>\n",
       "</div>"
      ],
      "text/plain": [
       "       Close\n",
       "0  75.779999\n",
       "1  75.610001"
      ]
     },
     "execution_count": 4,
     "metadata": {},
     "output_type": "execute_result"
    }
   ],
   "source": [
    "# sample time-series dataframe with only one column\n",
    "\n",
    "ts_df = utils.read_csv('basic_time_series_data.csv')\n",
    "ts_df.head(2)"
   ]
  },
  {
   "cell_type": "code",
   "execution_count": 5,
   "metadata": {},
   "outputs": [],
   "source": [
    "# user defind parameters\n",
    "\n",
    "# time series values column name: required if input dataframe has more than one column\n",
    "\n",
    "endog_colname = None\n",
    "\n",
    "if len(ts_df.columns) > 1 and endog_colname is None:\n",
    "    raise ValueError('time series column name is required!!!')\n",
    "\n",
    "freq = 5\n",
    "fcst_length = 10\n",
    "model_list = ['ewm_model', 'fft', 'holt_winters', 'prophet', 'sarimax']\n",
    "\n",
    "'''\n",
    "avilable run types: 'best_model', 'all_best', 'all_models'\n",
    "'''\n",
    "\n",
    "run_type = 'all_best'\n",
    "\n",
    "# if comparing models (run_type is 'best_model' or 'all_best') then holdout length is required\n",
    "\n",
    "if run_type == 'all_models':\n",
    "    holdout_length = None\n",
    "else:\n",
    "    holdout_length = 20\n",
    "\n",
    "\n",
    "# we are working with one time series and no date-time column so time series id and date-time column name are set to None.\n",
    "gbkey = None\n",
    "ds_column = None"
   ]
  },
  {
   "cell_type": "code",
   "execution_count": 6,
   "metadata": {},
   "outputs": [
    {
     "name": "stderr",
     "output_type": "stream",
     "text": [
      "INFO:fbprophet:Disabling yearly seasonality. Run prophet with yearly_seasonality=True to override this.\n",
      "INFO:fbprophet:Disabling daily seasonality. Run prophet with daily_seasonality=True to override this.\n",
      "INFO:fbprophet:Disabling yearly seasonality. Run prophet with yearly_seasonality=True to override this.\n",
      "INFO:fbprophet:Disabling daily seasonality. Run prophet with daily_seasonality=True to override this.\n"
     ]
    },
    {
     "data": {
      "text/html": [
       "<div>\n",
       "<style scoped>\n",
       "    .dataframe tbody tr th:only-of-type {\n",
       "        vertical-align: middle;\n",
       "    }\n",
       "\n",
       "    .dataframe tbody tr th {\n",
       "        vertical-align: top;\n",
       "    }\n",
       "\n",
       "    .dataframe thead th {\n",
       "        text-align: right;\n",
       "    }\n",
       "</style>\n",
       "<table border=\"1\" class=\"dataframe\">\n",
       "  <thead>\n",
       "    <tr style=\"text-align: right;\">\n",
       "      <th></th>\n",
       "      <th>ewm_model_forecast</th>\n",
       "      <th>ewm_model_wfa</th>\n",
       "      <th>fft_forecast</th>\n",
       "      <th>fft_wfa</th>\n",
       "      <th>holt_winters_forecast</th>\n",
       "      <th>holt_winters_wfa</th>\n",
       "      <th>prophet_forecast</th>\n",
       "      <th>prophet_wfa</th>\n",
       "      <th>sarimax_forecast</th>\n",
       "      <th>sarimax_wfa</th>\n",
       "      <th>ts_id</th>\n",
       "      <th>best_model</th>\n",
       "    </tr>\n",
       "  </thead>\n",
       "  <tbody>\n",
       "    <tr>\n",
       "      <th>0</th>\n",
       "      <td>75.779999</td>\n",
       "      <td>0.95879</td>\n",
       "      <td>74.468266</td>\n",
       "      <td>0.946171</td>\n",
       "      <td>75.779999</td>\n",
       "      <td>0.954586</td>\n",
       "      <td>75.316435</td>\n",
       "      <td>0.981905</td>\n",
       "      <td>0.000000</td>\n",
       "      <td>0.96388</td>\n",
       "      <td>1</td>\n",
       "      <td>prophet</td>\n",
       "    </tr>\n",
       "    <tr>\n",
       "      <th>1</th>\n",
       "      <td>75.678000</td>\n",
       "      <td>0.95879</td>\n",
       "      <td>74.858440</td>\n",
       "      <td>0.946171</td>\n",
       "      <td>75.610001</td>\n",
       "      <td>0.954586</td>\n",
       "      <td>75.094509</td>\n",
       "      <td>0.981905</td>\n",
       "      <td>75.818473</td>\n",
       "      <td>0.96388</td>\n",
       "      <td>1</td>\n",
       "      <td>prophet</td>\n",
       "    </tr>\n",
       "    <tr>\n",
       "      <th>2</th>\n",
       "      <td>76.209475</td>\n",
       "      <td>0.95879</td>\n",
       "      <td>74.996641</td>\n",
       "      <td>0.946171</td>\n",
       "      <td>76.800003</td>\n",
       "      <td>0.954586</td>\n",
       "      <td>74.455410</td>\n",
       "      <td>0.981905</td>\n",
       "      <td>75.648389</td>\n",
       "      <td>0.96388</td>\n",
       "      <td>1</td>\n",
       "      <td>prophet</td>\n",
       "    </tr>\n",
       "    <tr>\n",
       "      <th>3</th>\n",
       "      <td>76.018616</td>\n",
       "      <td>0.95879</td>\n",
       "      <td>74.860879</td>\n",
       "      <td>0.946171</td>\n",
       "      <td>75.750000</td>\n",
       "      <td>0.954586</td>\n",
       "      <td>73.537218</td>\n",
       "      <td>0.981905</td>\n",
       "      <td>76.838995</td>\n",
       "      <td>0.96388</td>\n",
       "      <td>1</td>\n",
       "      <td>prophet</td>\n",
       "    </tr>\n",
       "    <tr>\n",
       "      <th>4</th>\n",
       "      <td>75.182274</td>\n",
       "      <td>0.95879</td>\n",
       "      <td>74.457553</td>\n",
       "      <td>0.946171</td>\n",
       "      <td>73.839996</td>\n",
       "      <td>0.954586</td>\n",
       "      <td>73.682707</td>\n",
       "      <td>0.981905</td>\n",
       "      <td>75.788459</td>\n",
       "      <td>0.96388</td>\n",
       "      <td>1</td>\n",
       "      <td>prophet</td>\n",
       "    </tr>\n",
       "  </tbody>\n",
       "</table>\n",
       "</div>"
      ],
      "text/plain": [
       "   ewm_model_forecast  ewm_model_wfa  fft_forecast   fft_wfa  \\\n",
       "0           75.779999        0.95879     74.468266  0.946171   \n",
       "1           75.678000        0.95879     74.858440  0.946171   \n",
       "2           76.209475        0.95879     74.996641  0.946171   \n",
       "3           76.018616        0.95879     74.860879  0.946171   \n",
       "4           75.182274        0.95879     74.457553  0.946171   \n",
       "\n",
       "   holt_winters_forecast  holt_winters_wfa  prophet_forecast  prophet_wfa  \\\n",
       "0              75.779999          0.954586         75.316435     0.981905   \n",
       "1              75.610001          0.954586         75.094509     0.981905   \n",
       "2              76.800003          0.954586         74.455410     0.981905   \n",
       "3              75.750000          0.954586         73.537218     0.981905   \n",
       "4              73.839996          0.954586         73.682707     0.981905   \n",
       "\n",
       "   sarimax_forecast  sarimax_wfa  ts_id best_model  \n",
       "0          0.000000      0.96388      1    prophet  \n",
       "1         75.818473      0.96388      1    prophet  \n",
       "2         75.648389      0.96388      1    prophet  \n",
       "3         76.838995      0.96388      1    prophet  \n",
       "4         75.788459      0.96388      1    prophet  "
      ]
     },
     "execution_count": 6,
     "metadata": {},
     "output_type": "execute_result"
    }
   ],
   "source": [
    "'''\n",
    "result:  dataframe containing fitted values and future forecasts\n",
    "fit_results_list:  list of dictionaries containing fitted values, forecasts, and errors (useful for debuging)\n",
    "'''\n",
    "\n",
    "result, fit_result_list = main.collect_result(\n",
    "                                                    ts_df,\n",
    "                                                    endog_colname,\n",
    "                                                    gbkey,\n",
    "                                                    ds_column, \n",
    "                                                    freq, \n",
    "                                                    fcst_length, \n",
    "                                                    run_type, \n",
    "                                                    holdout_length, \n",
    "                                                    model_list\n",
    "                                            )\n",
    "\n",
    "result.head()"
   ]
  },
  {
   "cell_type": "code",
   "execution_count": 7,
   "metadata": {},
   "outputs": [
    {
     "data": {
      "image/png": "[encoded data removed]",
      "text/plain": [
       "<Figure size 432x288 with 1 Axes>"
      ]
     },
     "metadata": {},
     "output_type": "display_data"
    }
   ],
   "source": [
    "# m_list = model_list.remove('prophet')\n",
    "for k, df in result.groupby('ts_id'):\n",
    "    df.iloc[-50:].plot(y=[x+'_forecast' for x in model_list])\n"
   ]
  },
  {
   "cell_type": "code",
   "execution_count": 8,
   "metadata": {},
   "outputs": [],
   "source": [
    "for item in fit_result_list:\n",
    "    for model in model_list:\n",
    "        if item[model+'_err'] is not None:\n",
    "            print(model + ': ' + item[model+'_err'])"
   ]
  },
  {
   "cell_type": "code",
   "execution_count": null,
   "metadata": {},
   "outputs": [],
   "source": []
  }
 ],
 "metadata": {
  "kernelspec": {
   "display_name": "Python 3",
   "language": "python",
   "name": "python3"
  },
  "language_info": {
   "codemirror_mode": {
    "name": "ipython",
    "version": 3
   },
   "file_extension": ".py",
   "mimetype": "text/x-python",
   "name": "python",
   "nbconvert_exporter": "python",
   "pygments_lexer": "ipython3",
   "version": "3.6.5"
  }
 },
 "nbformat": 4,
 "nbformat_minor": 2
}
